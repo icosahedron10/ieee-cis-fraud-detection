{
  "nbformat": 4,
  "nbformat_minor": 0,
  "metadata": {
    "colab": {
      "provenance": [],
      "machine_shape": "hm",
      "authorship_tag": "ABX9TyPtcNAZS+2PqBliEAbmtxAM",
      "include_colab_link": true
    },
    "kernelspec": {
      "name": "python3",
      "display_name": "Python 3"
    },
    "language_info": {
      "name": "python"
    },
    "gpuClass": "standard",
    "accelerator": "GPU"
  },
  "cells": [
    {
      "cell_type": "markdown",
      "metadata": {
        "id": "view-in-github",
        "colab_type": "text"
      },
      "source": [
        "<a href=\"https://colab.research.google.com/github/icosahedron10/ieee-cis-fraud-detection/blob/main/IEEE_CIS_FraudDetection.ipynb\" target=\"_parent\"><img src=\"https://colab.research.google.com/assets/colab-badge.svg\" alt=\"Open In Colab\"/></a>"
      ]
    },
    {
      "cell_type": "markdown",
      "source": [
        "# IEEE-CIS Fraud Detection\n",
        "\n",
        "The IEEE-CIS Fraud Detection competition was held on Kaggle in 2019 and was sponsored by the Institute of Electrical and Electronics Engineers Computational Intelligence Society (IEEE-CIS). The dataset used for the competition was provided by a financial institution and contained transaction data for credit card usage. The goal of the competition was to build a machine learning model that could accurately detect fraudulent transactions in this highly imbalanced dataset. The competition was widely participated in by the machine learning community, and the results showed the power of modern machine learning techniques for addressing the challenge of fraud detection. The dataset and the competition continue to be a popular source of inspiration and learning for those interested in this field.\n",
        "\n",
        "In this Jupyter notebook, we explore the use of Synthetic Minority Over-sampling Technique (SMOTE) and XGBoost for classifying fraudulent transactions in the IEEE-CIS dataset. Fraud detection is a crucial task in the financial industry as it helps prevent significant losses. However, traditional methods of fraud detection can be easily fooled by the imbalanced nature of fraud data, where the number of fraud cases is usually much lower than the number of non-fraud cases.\n",
        "\n",
        "SMOTE is a popular method for handling imbalanced data by creating synthetic samples of the minority class (in this case, fraud). By oversampling the minority class, SMOTE helps balance the distribution of the target variable, making the model more robust to imbalanced data.\n",
        "\n",
        "In this project, we use a combination of SMOTE and XGBoost to address the challenge of detecting fraud in a highly imbalanced dataset. SMOTE helps to balance the distribution of the target variable by generating synthetic samples of the minority class; on the other hand, XGBoost, is a well-regarded machine learning algorithm known for its high accuracy and ability to process large datasets. By utilizing both SMOTE and XGBoost, this project aims to provide a practical demonstration of the capabilities of these techniques for fraud detection. The results of this project will serve as an introductory example of a very rich field of active research in the area of fraud detection\n",
        "\n"
      ],
      "metadata": {
        "id": "PkOXxQsGJ6Bf"
      }
    },
    {
      "cell_type": "code",
      "source": [
        "import warnings\n",
        "warnings.filterwarnings('ignore')\n",
        "!pip install ydata_profiling\n",
        "!pip install scikit.optimize"
      ],
      "metadata": {
        "colab": {
          "base_uri": "https://localhost:8080/"
        },
        "id": "Aom2CXYgl_VX",
        "outputId": "1b1322e8-b098-4d9b-f88e-3587b4429fd5"
      },
      "execution_count": 1,
      "outputs": [
        {
          "output_type": "stream",
          "name": "stdout",
          "text": [
            "Looking in indexes: https://pypi.org/simple, https://us-python.pkg.dev/colab-wheels/public/simple/\n",
            "Requirement already satisfied: ydata_profiling in /usr/local/lib/python3.8/dist-packages (4.0.0)\n",
            "Requirement already satisfied: matplotlib<3.7,>=3.2 in /usr/local/lib/python3.8/dist-packages (from ydata_profiling) (3.2.2)\n",
            "Requirement already satisfied: tqdm<4.65,>=4.48.2 in /usr/local/lib/python3.8/dist-packages (from ydata_profiling) (4.64.1)\n",
            "Requirement already satisfied: requests<2.29,>=2.24.0 in /usr/local/lib/python3.8/dist-packages (from ydata_profiling) (2.25.1)\n",
            "Requirement already satisfied: seaborn<0.13,>=0.10.1 in /usr/local/lib/python3.8/dist-packages (from ydata_profiling) (0.11.2)\n",
            "Requirement already satisfied: pandas!=1.4.0,<1.6,>1.1 in /usr/local/lib/python3.8/dist-packages (from ydata_profiling) (1.3.5)\n",
            "Requirement already satisfied: visions[type_image_path]==0.7.5 in /usr/local/lib/python3.8/dist-packages (from ydata_profiling) (0.7.5)\n",
            "Requirement already satisfied: PyYAML<6.1,>=5.0.0 in /usr/local/lib/python3.8/dist-packages (from ydata_profiling) (6.0)\n",
            "Requirement already satisfied: phik<0.13,>=0.11.1 in /usr/local/lib/python3.8/dist-packages (from ydata_profiling) (0.12.3)\n",
            "Requirement already satisfied: typeguard<2.14,>=2.13.2 in /usr/local/lib/python3.8/dist-packages (from ydata_profiling) (2.13.3)\n",
            "Requirement already satisfied: pydantic<1.11,>=1.8.1 in /usr/local/lib/python3.8/dist-packages (from ydata_profiling) (1.10.4)\n",
            "Requirement already satisfied: htmlmin==0.1.12 in /usr/local/lib/python3.8/dist-packages (from ydata_profiling) (0.1.12)\n",
            "Requirement already satisfied: statsmodels<0.14,>=0.13.2 in /usr/local/lib/python3.8/dist-packages (from ydata_profiling) (0.13.5)\n",
            "Requirement already satisfied: jinja2<3.2,>=2.11.1 in /usr/local/lib/python3.8/dist-packages (from ydata_profiling) (2.11.3)\n",
            "Requirement already satisfied: multimethod<1.10,>=1.4 in /usr/local/lib/python3.8/dist-packages (from ydata_profiling) (1.9.1)\n",
            "Requirement already satisfied: scipy<1.10,>=1.4.1 in /usr/local/lib/python3.8/dist-packages (from ydata_profiling) (1.7.3)\n",
            "Requirement already satisfied: numpy<1.24,>=1.16.0 in /usr/local/lib/python3.8/dist-packages (from ydata_profiling) (1.21.6)\n",
            "Requirement already satisfied: networkx>=2.4 in /usr/local/lib/python3.8/dist-packages (from visions[type_image_path]==0.7.5->ydata_profiling) (3.0)\n",
            "Requirement already satisfied: tangled-up-in-unicode>=0.0.4 in /usr/local/lib/python3.8/dist-packages (from visions[type_image_path]==0.7.5->ydata_profiling) (0.2.0)\n",
            "Requirement already satisfied: attrs>=19.3.0 in /usr/local/lib/python3.8/dist-packages (from visions[type_image_path]==0.7.5->ydata_profiling) (22.2.0)\n",
            "Requirement already satisfied: imagehash in /usr/local/lib/python3.8/dist-packages (from visions[type_image_path]==0.7.5->ydata_profiling) (4.3.1)\n",
            "Requirement already satisfied: Pillow in /usr/local/lib/python3.8/dist-packages (from visions[type_image_path]==0.7.5->ydata_profiling) (7.1.2)\n",
            "Requirement already satisfied: MarkupSafe>=0.23 in /usr/local/lib/python3.8/dist-packages (from jinja2<3.2,>=2.11.1->ydata_profiling) (2.0.1)\n",
            "Requirement already satisfied: cycler>=0.10 in /usr/local/lib/python3.8/dist-packages (from matplotlib<3.7,>=3.2->ydata_profiling) (0.11.0)\n",
            "Requirement already satisfied: pyparsing!=2.0.4,!=2.1.2,!=2.1.6,>=2.0.1 in /usr/local/lib/python3.8/dist-packages (from matplotlib<3.7,>=3.2->ydata_profiling) (3.0.9)\n",
            "Requirement already satisfied: python-dateutil>=2.1 in /usr/local/lib/python3.8/dist-packages (from matplotlib<3.7,>=3.2->ydata_profiling) (2.8.2)\n",
            "Requirement already satisfied: kiwisolver>=1.0.1 in /usr/local/lib/python3.8/dist-packages (from matplotlib<3.7,>=3.2->ydata_profiling) (1.4.4)\n",
            "Requirement already satisfied: pytz>=2017.3 in /usr/local/lib/python3.8/dist-packages (from pandas!=1.4.0,<1.6,>1.1->ydata_profiling) (2022.7.1)\n",
            "Requirement already satisfied: joblib>=0.14.1 in /usr/local/lib/python3.8/dist-packages (from phik<0.13,>=0.11.1->ydata_profiling) (1.2.0)\n",
            "Requirement already satisfied: typing-extensions>=4.2.0 in /usr/local/lib/python3.8/dist-packages (from pydantic<1.11,>=1.8.1->ydata_profiling) (4.4.0)\n",
            "Requirement already satisfied: certifi>=2017.4.17 in /usr/local/lib/python3.8/dist-packages (from requests<2.29,>=2.24.0->ydata_profiling) (2022.12.7)\n",
            "Requirement already satisfied: chardet<5,>=3.0.2 in /usr/local/lib/python3.8/dist-packages (from requests<2.29,>=2.24.0->ydata_profiling) (4.0.0)\n",
            "Requirement already satisfied: urllib3<1.27,>=1.21.1 in /usr/local/lib/python3.8/dist-packages (from requests<2.29,>=2.24.0->ydata_profiling) (1.24.3)\n",
            "Requirement already satisfied: idna<3,>=2.5 in /usr/local/lib/python3.8/dist-packages (from requests<2.29,>=2.24.0->ydata_profiling) (2.10)\n",
            "Requirement already satisfied: patsy>=0.5.2 in /usr/local/lib/python3.8/dist-packages (from statsmodels<0.14,>=0.13.2->ydata_profiling) (0.5.3)\n",
            "Requirement already satisfied: packaging>=21.3 in /usr/local/lib/python3.8/dist-packages (from statsmodels<0.14,>=0.13.2->ydata_profiling) (23.0)\n",
            "Requirement already satisfied: six in /usr/local/lib/python3.8/dist-packages (from patsy>=0.5.2->statsmodels<0.14,>=0.13.2->ydata_profiling) (1.15.0)\n",
            "Requirement already satisfied: PyWavelets in /usr/local/lib/python3.8/dist-packages (from imagehash->visions[type_image_path]==0.7.5->ydata_profiling) (1.4.1)\n",
            "Looking in indexes: https://pypi.org/simple, https://us-python.pkg.dev/colab-wheels/public/simple/\n",
            "Requirement already satisfied: scikit.optimize in /usr/local/lib/python3.8/dist-packages (0.9.0)\n",
            "Requirement already satisfied: numpy>=1.13.3 in /usr/local/lib/python3.8/dist-packages (from scikit.optimize) (1.21.6)\n",
            "Requirement already satisfied: joblib>=0.11 in /usr/local/lib/python3.8/dist-packages (from scikit.optimize) (1.2.0)\n",
            "Requirement already satisfied: scipy>=0.19.1 in /usr/local/lib/python3.8/dist-packages (from scikit.optimize) (1.7.3)\n",
            "Requirement already satisfied: pyaml>=16.9 in /usr/local/lib/python3.8/dist-packages (from scikit.optimize) (21.10.1)\n",
            "Requirement already satisfied: scikit-learn>=0.20.0 in /usr/local/lib/python3.8/dist-packages (from scikit.optimize) (1.0.2)\n",
            "Requirement already satisfied: PyYAML in /usr/local/lib/python3.8/dist-packages (from pyaml>=16.9->scikit.optimize) (6.0)\n",
            "Requirement already satisfied: threadpoolctl>=2.0.0 in /usr/local/lib/python3.8/dist-packages (from scikit-learn>=0.20.0->scikit.optimize) (3.1.0)\n"
          ]
        }
      ]
    },
    {
      "cell_type": "code",
      "execution_count": 2,
      "metadata": {
        "id": "1CtzQum8h53D"
      },
      "outputs": [],
      "source": [
        "import pandas as pd\n",
        "import numpy as npy\n",
        "from ydata_profiling import ProfileReport\n",
        "from matplotlib import pyplot as plt\n",
        "import seaborn as sbn\n",
        "\n",
        "import tensorflow as tf\n",
        "from sklearn.impute import SimpleImputer\n",
        "from sklearn.model_selection import train_test_split, KFold\n",
        "from sklearn.preprocessing import StandardScaler\n",
        "from sklearn.metrics import roc_auc_score, confusion_matrix\n",
        "from sklearn.ensemble import RandomForestClassifier\n",
        "from imblearn.over_sampling import SMOTE\n",
        "from skopt import BayesSearchCV\n",
        "from skopt.space import Integer, Real\n",
        "import xgboost as xgb"
      ]
    },
    {
      "cell_type": "markdown",
      "source": [
        "The data we read in will be nearly two gigabytes, so we will use the following function to reduce the size of these files as much as possible. The function will do this by looking at the relative size of each column and reducing the number of bytes reserved to that number to the minimum required."
      ],
      "metadata": {
        "id": "4Ulvu5phtHdi"
      }
    },
    {
      "cell_type": "code",
      "source": [
        "def reduce_mem_usage(df):\n",
        "    # For each column, reduce dataype to minimum required\n",
        "    # goal: Reduce memory usage        \n",
        "    \n",
        "    start_mem = df.memory_usage().sum() / 1024**2\n",
        "    print('Memory usage of dataframe is {:.2f} MB'.format(start_mem))\n",
        "    \n",
        "    for col in df.columns:\n",
        "        col_type = df[col].dtype\n",
        "        \n",
        "        if col_type != object and col_type != 'category':\n",
        "            c_min = df[col].min()\n",
        "            c_max = df[col].max()\n",
        "            if str(col_type)[:3] == 'int':\n",
        "                if c_min > npy.iinfo(npy.int8).min and c_max < npy.iinfo(npy.int8).max:\n",
        "                    df[col] = df[col].astype(npy.int8)\n",
        "                elif c_min > npy.iinfo(npy.int16).min and c_max < npy.iinfo(npy.int16).max:\n",
        "                    df[col] = df[col].astype(npy.int16)\n",
        "                elif c_min > npy.iinfo(npy.int32).min and c_max < npy.iinfo(npy.int32).max:\n",
        "                    df[col] = df[col].astype(npy.int32)\n",
        "                elif c_min > npy.iinfo(npy.int64).min and c_max < npy.iinfo(npy.int64).max:\n",
        "                    df[col] = df[col].astype(npy.int64)  \n",
        "            else:\n",
        "                if c_min > npy.finfo(npy.float16).min and c_max < npy.finfo(npy.float16).max:\n",
        "                    df[col] = df[col].astype(npy.float16)\n",
        "                elif c_min > npy.finfo(npy.float32).min and c_max < npy.finfo(npy.float32).max:\n",
        "                    df[col] = df[col].astype(npy.float32)\n",
        "                else:\n",
        "                    df[col] = df[col].astype(npy.float64)\n",
        "        else:\n",
        "            df[col] = df[col].astype('category')\n",
        "\n",
        "    end_mem = df.memory_usage().sum() / 1024**2\n",
        "    print('Memory usage after optimization is: {:.2f} MB'.format(end_mem))\n",
        "    print('Decreased by {:.1f}%'.format(100 * (start_mem - end_mem) / start_mem))\n",
        "    \n",
        "    return df"
      ],
      "metadata": {
        "id": "uSIFljD1rimE"
      },
      "execution_count": 3,
      "outputs": []
    },
    {
      "cell_type": "code",
      "source": [
        "train_transaction = pd.read_csv('train_transaction.csv')\n",
        "train_transaction = reduce_mem_usage(train_transaction)\n",
        "print(train_transaction.shape)"
      ],
      "metadata": {
        "colab": {
          "base_uri": "https://localhost:8080/"
        },
        "id": "LiGyBpQ2jzkc",
        "outputId": "c5744c5e-098b-464f-8d8b-c6027699b4b9"
      },
      "execution_count": 4,
      "outputs": [
        {
          "output_type": "stream",
          "name": "stdout",
          "text": [
            "Memory usage of dataframe is 1775.15 MB\n",
            "Memory usage after optimization is: 487.16 MB\n",
            "Decreased by 72.6%\n",
            "(590540, 394)\n"
          ]
        }
      ]
    },
    {
      "cell_type": "code",
      "source": [
        "test_transaction = pd.read_csv('test_transaction.csv')\n",
        "test_transaction = reduce_mem_usage(test_transaction)\n",
        "print(test_transaction.shape)"
      ],
      "metadata": {
        "id": "EKuh_LANteo_",
        "colab": {
          "base_uri": "https://localhost:8080/"
        },
        "outputId": "025b1681-9347-4f3d-edb4-5a26cb728e82"
      },
      "execution_count": 5,
      "outputs": [
        {
          "output_type": "stream",
          "name": "stdout",
          "text": [
            "Memory usage of dataframe is 1519.24 MB\n",
            "Memory usage after optimization is: 425.24 MB\n",
            "Decreased by 72.0%\n",
            "(506691, 393)\n"
          ]
        }
      ]
    },
    {
      "cell_type": "markdown",
      "source": [
        "We can see this memory reduction was significant. In the case of the following datasets, the columns are mostly categorical variables and do not take advantage of the past function. Lukily, however, they are relatively small files."
      ],
      "metadata": {
        "id": "Mas6vBlhtrsY"
      }
    },
    {
      "cell_type": "code",
      "source": [
        "train_identity = pd.read_csv('train_identity.csv')\n",
        "print(train_identity.shape)"
      ],
      "metadata": {
        "id": "qLmUOXNKrvpj",
        "colab": {
          "base_uri": "https://localhost:8080/"
        },
        "outputId": "5c1558c9-22fb-4fd6-cd61-a135cc7c7b07"
      },
      "execution_count": 6,
      "outputs": [
        {
          "output_type": "stream",
          "name": "stdout",
          "text": [
            "(144233, 41)\n"
          ]
        }
      ]
    },
    {
      "cell_type": "code",
      "source": [
        "test_identity = pd.read_csv('test_identity.csv')\n",
        "print(test_identity.shape)"
      ],
      "metadata": {
        "id": "24atDLFgv6PE",
        "colab": {
          "base_uri": "https://localhost:8080/"
        },
        "outputId": "9f2765ee-eb07-42ac-f7ce-9120492c12d9"
      },
      "execution_count": 7,
      "outputs": [
        {
          "output_type": "stream",
          "name": "stdout",
          "text": [
            "(141907, 41)\n"
          ]
        }
      ]
    },
    {
      "cell_type": "markdown",
      "source": [
        "Now that our datasets are loaded in, we can now take advantage of the feature they have in common: TransactionID. We will use the merge() function in Pandas to create our full dataset by combining all relavent identifying information about the purchaser with each transaction in the transactions dataset. We are told there are records in the transactions dataset for which there is no identifying information, so we will left-join as to keep all transactions. We can see below that the resulting dataset is nearly 600,000 records, each with 433 features and one response. "
      ],
      "metadata": {
        "id": "knoeVIl_uf9b"
      }
    },
    {
      "cell_type": "code",
      "source": [
        "train = pd.merge(train_transaction, train_identity, how='left')\n",
        "print(train.shape)"
      ],
      "metadata": {
        "id": "ll5295dcpJ4F",
        "colab": {
          "base_uri": "https://localhost:8080/"
        },
        "outputId": "6524000e-f62f-4e74-f36c-b3fc45b333d9"
      },
      "execution_count": 8,
      "outputs": [
        {
          "output_type": "stream",
          "name": "stdout",
          "text": [
            "(590540, 434)\n"
          ]
        }
      ]
    },
    {
      "cell_type": "code",
      "source": [
        "test = pd.merge(test_transaction, test_identity, how='left')\n",
        "print(test.shape)"
      ],
      "metadata": {
        "id": "CZ8XgC633TKo",
        "colab": {
          "base_uri": "https://localhost:8080/"
        },
        "outputId": "9b444a7f-571d-4472-a5f0-0fcdf8180099"
      },
      "execution_count": 9,
      "outputs": [
        {
          "output_type": "stream",
          "name": "stdout",
          "text": [
            "(506691, 433)\n"
          ]
        }
      ]
    },
    {
      "cell_type": "code",
      "source": [
        "train.head()"
      ],
      "metadata": {
        "id": "1okQ7MOcpQ84",
        "colab": {
          "base_uri": "https://localhost:8080/",
          "height": 297
        },
        "outputId": "ebcbd1ce-9cd0-4b5b-c058-b9776869f242"
      },
      "execution_count": 10,
      "outputs": [
        {
          "output_type": "execute_result",
          "data": {
            "text/plain": [
              "   TransactionID  isFraud  TransactionDT  TransactionAmt ProductCD  card1  \\\n",
              "0        2987000        0          86400            68.5         W  13926   \n",
              "1        2987001        0          86401            29.0         W   2755   \n",
              "2        2987002        0          86469            59.0         W   4663   \n",
              "3        2987003        0          86499            50.0         W  18132   \n",
              "4        2987004        0          86506            50.0         H   4497   \n",
              "\n",
              "   card2  card3       card4  card5  ...                id_31  id_32  \\\n",
              "0    NaN  150.0    discover  142.0  ...                  NaN    NaN   \n",
              "1  404.0  150.0  mastercard  102.0  ...                  NaN    NaN   \n",
              "2  490.0  150.0        visa  166.0  ...                  NaN    NaN   \n",
              "3  567.0  150.0  mastercard  117.0  ...                  NaN    NaN   \n",
              "4  514.0  150.0  mastercard  102.0  ...  samsung browser 6.2   32.0   \n",
              "\n",
              "       id_33           id_34  id_35 id_36 id_37  id_38  DeviceType  \\\n",
              "0        NaN             NaN    NaN   NaN   NaN    NaN         NaN   \n",
              "1        NaN             NaN    NaN   NaN   NaN    NaN         NaN   \n",
              "2        NaN             NaN    NaN   NaN   NaN    NaN         NaN   \n",
              "3        NaN             NaN    NaN   NaN   NaN    NaN         NaN   \n",
              "4  2220x1080  match_status:2      T     F     T      T      mobile   \n",
              "\n",
              "                      DeviceInfo  \n",
              "0                            NaN  \n",
              "1                            NaN  \n",
              "2                            NaN  \n",
              "3                            NaN  \n",
              "4  SAMSUNG SM-G892A Build/NRD90M  \n",
              "\n",
              "[5 rows x 434 columns]"
            ],
            "text/html": [
              "\n",
              "  <div id=\"df-d83867fa-9964-4bf3-8b67-f99c0c999c34\">\n",
              "    <div class=\"colab-df-container\">\n",
              "      <div>\n",
              "<style scoped>\n",
              "    .dataframe tbody tr th:only-of-type {\n",
              "        vertical-align: middle;\n",
              "    }\n",
              "\n",
              "    .dataframe tbody tr th {\n",
              "        vertical-align: top;\n",
              "    }\n",
              "\n",
              "    .dataframe thead th {\n",
              "        text-align: right;\n",
              "    }\n",
              "</style>\n",
              "<table border=\"1\" class=\"dataframe\">\n",
              "  <thead>\n",
              "    <tr style=\"text-align: right;\">\n",
              "      <th></th>\n",
              "      <th>TransactionID</th>\n",
              "      <th>isFraud</th>\n",
              "      <th>TransactionDT</th>\n",
              "      <th>TransactionAmt</th>\n",
              "      <th>ProductCD</th>\n",
              "      <th>card1</th>\n",
              "      <th>card2</th>\n",
              "      <th>card3</th>\n",
              "      <th>card4</th>\n",
              "      <th>card5</th>\n",
              "      <th>...</th>\n",
              "      <th>id_31</th>\n",
              "      <th>id_32</th>\n",
              "      <th>id_33</th>\n",
              "      <th>id_34</th>\n",
              "      <th>id_35</th>\n",
              "      <th>id_36</th>\n",
              "      <th>id_37</th>\n",
              "      <th>id_38</th>\n",
              "      <th>DeviceType</th>\n",
              "      <th>DeviceInfo</th>\n",
              "    </tr>\n",
              "  </thead>\n",
              "  <tbody>\n",
              "    <tr>\n",
              "      <th>0</th>\n",
              "      <td>2987000</td>\n",
              "      <td>0</td>\n",
              "      <td>86400</td>\n",
              "      <td>68.5</td>\n",
              "      <td>W</td>\n",
              "      <td>13926</td>\n",
              "      <td>NaN</td>\n",
              "      <td>150.0</td>\n",
              "      <td>discover</td>\n",
              "      <td>142.0</td>\n",
              "      <td>...</td>\n",
              "      <td>NaN</td>\n",
              "      <td>NaN</td>\n",
              "      <td>NaN</td>\n",
              "      <td>NaN</td>\n",
              "      <td>NaN</td>\n",
              "      <td>NaN</td>\n",
              "      <td>NaN</td>\n",
              "      <td>NaN</td>\n",
              "      <td>NaN</td>\n",
              "      <td>NaN</td>\n",
              "    </tr>\n",
              "    <tr>\n",
              "      <th>1</th>\n",
              "      <td>2987001</td>\n",
              "      <td>0</td>\n",
              "      <td>86401</td>\n",
              "      <td>29.0</td>\n",
              "      <td>W</td>\n",
              "      <td>2755</td>\n",
              "      <td>404.0</td>\n",
              "      <td>150.0</td>\n",
              "      <td>mastercard</td>\n",
              "      <td>102.0</td>\n",
              "      <td>...</td>\n",
              "      <td>NaN</td>\n",
              "      <td>NaN</td>\n",
              "      <td>NaN</td>\n",
              "      <td>NaN</td>\n",
              "      <td>NaN</td>\n",
              "      <td>NaN</td>\n",
              "      <td>NaN</td>\n",
              "      <td>NaN</td>\n",
              "      <td>NaN</td>\n",
              "      <td>NaN</td>\n",
              "    </tr>\n",
              "    <tr>\n",
              "      <th>2</th>\n",
              "      <td>2987002</td>\n",
              "      <td>0</td>\n",
              "      <td>86469</td>\n",
              "      <td>59.0</td>\n",
              "      <td>W</td>\n",
              "      <td>4663</td>\n",
              "      <td>490.0</td>\n",
              "      <td>150.0</td>\n",
              "      <td>visa</td>\n",
              "      <td>166.0</td>\n",
              "      <td>...</td>\n",
              "      <td>NaN</td>\n",
              "      <td>NaN</td>\n",
              "      <td>NaN</td>\n",
              "      <td>NaN</td>\n",
              "      <td>NaN</td>\n",
              "      <td>NaN</td>\n",
              "      <td>NaN</td>\n",
              "      <td>NaN</td>\n",
              "      <td>NaN</td>\n",
              "      <td>NaN</td>\n",
              "    </tr>\n",
              "    <tr>\n",
              "      <th>3</th>\n",
              "      <td>2987003</td>\n",
              "      <td>0</td>\n",
              "      <td>86499</td>\n",
              "      <td>50.0</td>\n",
              "      <td>W</td>\n",
              "      <td>18132</td>\n",
              "      <td>567.0</td>\n",
              "      <td>150.0</td>\n",
              "      <td>mastercard</td>\n",
              "      <td>117.0</td>\n",
              "      <td>...</td>\n",
              "      <td>NaN</td>\n",
              "      <td>NaN</td>\n",
              "      <td>NaN</td>\n",
              "      <td>NaN</td>\n",
              "      <td>NaN</td>\n",
              "      <td>NaN</td>\n",
              "      <td>NaN</td>\n",
              "      <td>NaN</td>\n",
              "      <td>NaN</td>\n",
              "      <td>NaN</td>\n",
              "    </tr>\n",
              "    <tr>\n",
              "      <th>4</th>\n",
              "      <td>2987004</td>\n",
              "      <td>0</td>\n",
              "      <td>86506</td>\n",
              "      <td>50.0</td>\n",
              "      <td>H</td>\n",
              "      <td>4497</td>\n",
              "      <td>514.0</td>\n",
              "      <td>150.0</td>\n",
              "      <td>mastercard</td>\n",
              "      <td>102.0</td>\n",
              "      <td>...</td>\n",
              "      <td>samsung browser 6.2</td>\n",
              "      <td>32.0</td>\n",
              "      <td>2220x1080</td>\n",
              "      <td>match_status:2</td>\n",
              "      <td>T</td>\n",
              "      <td>F</td>\n",
              "      <td>T</td>\n",
              "      <td>T</td>\n",
              "      <td>mobile</td>\n",
              "      <td>SAMSUNG SM-G892A Build/NRD90M</td>\n",
              "    </tr>\n",
              "  </tbody>\n",
              "</table>\n",
              "<p>5 rows × 434 columns</p>\n",
              "</div>\n",
              "      <button class=\"colab-df-convert\" onclick=\"convertToInteractive('df-d83867fa-9964-4bf3-8b67-f99c0c999c34')\"\n",
              "              title=\"Convert this dataframe to an interactive table.\"\n",
              "              style=\"display:none;\">\n",
              "        \n",
              "  <svg xmlns=\"http://www.w3.org/2000/svg\" height=\"24px\"viewBox=\"0 0 24 24\"\n",
              "       width=\"24px\">\n",
              "    <path d=\"M0 0h24v24H0V0z\" fill=\"none\"/>\n",
              "    <path d=\"M18.56 5.44l.94 2.06.94-2.06 2.06-.94-2.06-.94-.94-2.06-.94 2.06-2.06.94zm-11 1L8.5 8.5l.94-2.06 2.06-.94-2.06-.94L8.5 2.5l-.94 2.06-2.06.94zm10 10l.94 2.06.94-2.06 2.06-.94-2.06-.94-.94-2.06-.94 2.06-2.06.94z\"/><path d=\"M17.41 7.96l-1.37-1.37c-.4-.4-.92-.59-1.43-.59-.52 0-1.04.2-1.43.59L10.3 9.45l-7.72 7.72c-.78.78-.78 2.05 0 2.83L4 21.41c.39.39.9.59 1.41.59.51 0 1.02-.2 1.41-.59l7.78-7.78 2.81-2.81c.8-.78.8-2.07 0-2.86zM5.41 20L4 18.59l7.72-7.72 1.47 1.35L5.41 20z\"/>\n",
              "  </svg>\n",
              "      </button>\n",
              "      \n",
              "  <style>\n",
              "    .colab-df-container {\n",
              "      display:flex;\n",
              "      flex-wrap:wrap;\n",
              "      gap: 12px;\n",
              "    }\n",
              "\n",
              "    .colab-df-convert {\n",
              "      background-color: #E8F0FE;\n",
              "      border: none;\n",
              "      border-radius: 50%;\n",
              "      cursor: pointer;\n",
              "      display: none;\n",
              "      fill: #1967D2;\n",
              "      height: 32px;\n",
              "      padding: 0 0 0 0;\n",
              "      width: 32px;\n",
              "    }\n",
              "\n",
              "    .colab-df-convert:hover {\n",
              "      background-color: #E2EBFA;\n",
              "      box-shadow: 0px 1px 2px rgba(60, 64, 67, 0.3), 0px 1px 3px 1px rgba(60, 64, 67, 0.15);\n",
              "      fill: #174EA6;\n",
              "    }\n",
              "\n",
              "    [theme=dark] .colab-df-convert {\n",
              "      background-color: #3B4455;\n",
              "      fill: #D2E3FC;\n",
              "    }\n",
              "\n",
              "    [theme=dark] .colab-df-convert:hover {\n",
              "      background-color: #434B5C;\n",
              "      box-shadow: 0px 1px 3px 1px rgba(0, 0, 0, 0.15);\n",
              "      filter: drop-shadow(0px 1px 2px rgba(0, 0, 0, 0.3));\n",
              "      fill: #FFFFFF;\n",
              "    }\n",
              "  </style>\n",
              "\n",
              "      <script>\n",
              "        const buttonEl =\n",
              "          document.querySelector('#df-d83867fa-9964-4bf3-8b67-f99c0c999c34 button.colab-df-convert');\n",
              "        buttonEl.style.display =\n",
              "          google.colab.kernel.accessAllowed ? 'block' : 'none';\n",
              "\n",
              "        async function convertToInteractive(key) {\n",
              "          const element = document.querySelector('#df-d83867fa-9964-4bf3-8b67-f99c0c999c34');\n",
              "          const dataTable =\n",
              "            await google.colab.kernel.invokeFunction('convertToInteractive',\n",
              "                                                     [key], {});\n",
              "          if (!dataTable) return;\n",
              "\n",
              "          const docLinkHtml = 'Like what you see? Visit the ' +\n",
              "            '<a target=\"_blank\" href=https://colab.research.google.com/notebooks/data_table.ipynb>data table notebook</a>'\n",
              "            + ' to learn more about interactive tables.';\n",
              "          element.innerHTML = '';\n",
              "          dataTable['output_type'] = 'display_data';\n",
              "          await google.colab.output.renderOutput(dataTable, element);\n",
              "          const docLink = document.createElement('div');\n",
              "          docLink.innerHTML = docLinkHtml;\n",
              "          element.appendChild(docLink);\n",
              "        }\n",
              "      </script>\n",
              "    </div>\n",
              "  </div>\n",
              "  "
            ]
          },
          "metadata": {},
          "execution_count": 10
        }
      ]
    },
    {
      "cell_type": "code",
      "source": [
        "plt.hist(train['TransactionDT'], label='Train')\n",
        "plt.hist(test['TransactionDT'], label='Test')\n",
        "plt.ylabel('Count')\n",
        "plt.title('Transaction Timestamp')\n",
        "plt.legend()\n",
        "plt.tight_layout()\n",
        "plt.show()"
      ],
      "metadata": {
        "colab": {
          "base_uri": "https://localhost:8080/",
          "height": 297
        },
        "id": "CGTtxJ7__L5y",
        "outputId": "3fbe13a0-2156-45b1-f9b2-8b8902f3d86a"
      },
      "execution_count": 11,
      "outputs": [
        {
          "output_type": "display_data",
          "data": {
            "text/plain": [
              "<Figure size 432x288 with 1 Axes>"
            ],
            "image/png": "[encoded data removed]"
          },
          "metadata": {
            "needs_background": "light"
          }
        }
      ]
    },
    {
      "cell_type": "code",
      "source": [
        "train.duplicated().sum()"
      ],
      "metadata": {
        "id": "uQNpXrLpuZLg",
        "colab": {
          "base_uri": "https://localhost:8080/"
        },
        "outputId": "e591562a-a349-4c45-9170-b28b6e051114"
      },
      "execution_count": 12,
      "outputs": [
        {
          "output_type": "execute_result",
          "data": {
            "text/plain": [
              "0"
            ]
          },
          "metadata": {},
          "execution_count": 12
        }
      ]
    },
    {
      "cell_type": "markdown",
      "source": [
        "From the code above, we can see that we have no duplicate records. Now, we will move into the process of cleaning this data. As a first note, we will find out how many missing records each data column has. "
      ],
      "metadata": {
        "id": "zPrVQ5NivnCp"
      }
    },
    {
      "cell_type": "code",
      "source": [
        "null_values = train.isnull().mean() * 100\n",
        "\n",
        "# Plot the histogram\n",
        "plt.hist(null_values, bins=20)\n",
        "plt.xlabel(\"Percentage of Null Values\")\n",
        "plt.ylabel(\"Number of Columns\")\n",
        "plt.title(\"Histogram of Null Values Percentage in Columns\")\n",
        "plt.axvline(x=33, color='red', linestyle='dashed')\n",
        "plt.show()"
      ],
      "metadata": {
        "colab": {
          "base_uri": "https://localhost:8080/",
          "height": 295
        },
        "id": "XG63me_iwpFC",
        "outputId": "75dc6e41-e99c-43b2-8589-5a85c9db6aeb"
      },
      "execution_count": 13,
      "outputs": [
        {
          "output_type": "display_data",
          "data": {
            "text/plain": [
              "<Figure size 432x288 with 1 Axes>"
            ],
            "image/png": "[encoded data removed]"
          },
          "metadata": {
            "needs_background": "light"
          }
        }
      ]
    },
    {
      "cell_type": "markdown",
      "source": [
        "In the above plot, we have visualized the percentage of null values in each column as a histogram. This is because the next step in our process is to prune columns from our dataset with too many null values. Referencing the plot above again, the red line plotted represents the proposed value after which we would not accept a column. Specifically, if we need to impute more than 33% of the data in a column, we have to accept that we are not going to gain much understanding from it. This value is the largest harmonic that I will accept in this regard (1/5 or 1/4 are preferred, etc).\n",
        "\n",
        "Below, we will begin preprocessing by pruning those columns plotted above the red line. That is, we will drop each column with more than 33% missing data."
      ],
      "metadata": {
        "id": "TQE9_H2-0ecE"
      }
    },
    {
      "cell_type": "code",
      "source": [
        "y = train['isFraud']"
      ],
      "metadata": {
        "id": "bK-o12HS3ICg"
      },
      "execution_count": 14,
      "outputs": []
    },
    {
      "cell_type": "code",
      "source": [
        "to_clean = pd.concat([train.drop(columns=['isFraud', 'TransactionID']),\n",
        "                      test.drop(columns='TransactionID')])\n",
        "print(to_clean.shape)\n",
        "\n",
        "# Dropping columns with more than 25% missing values \n",
        "mv = to_clean.isnull().sum()/len(to_clean)\n",
        "to_clean = to_clean.drop(columns=mv[mv>0.65].index)\n",
        "print(to_clean.shape)"
      ],
      "metadata": {
        "id": "evIam7TPp_Rz",
        "colab": {
          "base_uri": "https://localhost:8080/"
        },
        "outputId": "9470f4dd-6b31-42c1-cc96-7fa88238a0ad"
      },
      "execution_count": 15,
      "outputs": [
        {
          "output_type": "stream",
          "name": "stdout",
          "text": [
            "(1097231, 470)\n",
            "(1097231, 224)\n"
          ]
        }
      ]
    },
    {
      "cell_type": "markdown",
      "source": [
        "We can see from the output above that we kept 224 columns of the 470 that we started with. That is a column retention rate of about 48%.\n",
        "\n",
        "With the columns that we kept, we will now perform imputation to clean up all of the null values. For the numerical columns, we will use median imputation, and we will use mode imputation for all of the categorical columns. After cleaning these independently, we will concatenate them back together and move on to the next steps of preprocessing."
      ],
      "metadata": {
        "id": "EBL_8_b89e6N"
      }
    },
    {
      "cell_type": "code",
      "source": [
        "numericals_to_clean = to_clean.select_dtypes(include=npy.number)\n",
        "categoricals_to_clean = to_clean.select_dtypes(exclude=npy.number)\n",
        "\n",
        "# Median imputation on numericals\n",
        "meadian_imputer = SimpleImputer(missing_values=npy.nan, strategy='median')\n",
        "numericals = pd.DataFrame(meadian_imputer.fit_transform(numericals_to_clean), \n",
        "                          columns=numericals_to_clean.columns)\n",
        "\n",
        "# Mode imputation on categoricals\n",
        "mode_imputer = SimpleImputer(missing_values=npy.nan, strategy='most_frequent')\n",
        "categoricals = pd.DataFrame(mode_imputer.fit_transform(categoricals_to_clean),\n",
        "                      columns=categoricals_to_clean.columns)\n",
        "\n",
        "# Concatinating numericals and categoricals\n",
        "is_clean = pd.concat([numericals, categoricals], axis=1)"
      ],
      "metadata": {
        "id": "XruLxxes4Gln"
      },
      "execution_count": 16,
      "outputs": []
    },
    {
      "cell_type": "code",
      "source": [
        "is_clean.isna().sum().sum()"
      ],
      "metadata": {
        "id": "ZdA9-FkQ8lQU",
        "colab": {
          "base_uri": "https://localhost:8080/"
        },
        "outputId": "377524e9-e285-4719-a7c5-54b1949358ac"
      },
      "execution_count": 17,
      "outputs": [
        {
          "output_type": "execute_result",
          "data": {
            "text/plain": [
              "0"
            ]
          },
          "metadata": {},
          "execution_count": 17
        }
      ]
    },
    {
      "cell_type": "markdown",
      "source": [
        "Next, we will use one-hot encoding on the categorical variables to get a sparse matrix for use in XGBoost later. From the output below, we can see that our test and training set comine for nearly 1.1 million rows and that our data set contains 290 columns after using OHE."
      ],
      "metadata": {
        "id": "0ipZGVW7-MZA"
      }
    },
    {
      "cell_type": "code",
      "source": [
        "is_encoded = pd.get_dummies(is_clean, drop_first=True)\n",
        "print(is_encoded.shape)"
      ],
      "metadata": {
        "id": "zDkYTChX9BgC",
        "colab": {
          "base_uri": "https://localhost:8080/"
        },
        "outputId": "9c2fa239-d969-436c-8e33-acdef441ecd7"
      },
      "execution_count": 18,
      "outputs": [
        {
          "output_type": "stream",
          "name": "stdout",
          "text": [
            "(1097231, 290)\n"
          ]
        }
      ]
    },
    {
      "cell_type": "markdown",
      "source": [
        "Below, we separate the dataframe 'is_encoded' back into its training and testing counterparts. We do this by taking the length of our y training dataset and removing as many records from 'is_encoded' to create the training set, and what remains is the test set."
      ],
      "metadata": {
        "id": "cXbYYUItGZ_g"
      }
    },
    {
      "cell_type": "code",
      "source": [
        "X = is_encoded.iloc[:y.size]\n",
        "print(X.shape)\n",
        "X_test = is_encoded.iloc[y.size:]\n",
        "print(X_test.shape)"
      ],
      "metadata": {
        "id": "vUDI6XcY9RCx",
        "colab": {
          "base_uri": "https://localhost:8080/"
        },
        "outputId": "ddfbb343-7155-46c9-9c65-f71bd5218ab5"
      },
      "execution_count": 19,
      "outputs": [
        {
          "output_type": "stream",
          "name": "stdout",
          "text": [
            "(590540, 290)\n",
            "(506691, 290)\n"
          ]
        }
      ]
    },
    {
      "cell_type": "markdown",
      "source": [
        "Because we know that the training and testing datasets are separated in time such that all of the testing transactions happen after the training set, we will use a stratified sampling techinique to create our validation set by first ordering our training set by the timedelta column and then taking the first 70% of the records as the training set. This will leave the last 30% of the records with respect to the time delta column for the validation set, thereby simulating the testing set happening later in time."
      ],
      "metadata": {
        "id": "70d68xQnG60H"
      }
    },
    {
      "cell_type": "code",
      "source": [
        "\n",
        "# Time-based train validation splitting with 20% data in validation set\n",
        "X.sort_values('TransactionDT', inplace=True)\n",
        "splitting_index = int(0.7*len(X))\n",
        "X_train = X.iloc[:splitting_index].values\n",
        "X_val = X.iloc[splitting_index:].values\n",
        "y_train = y.iloc[:splitting_index].values\n",
        "y_val = y.iloc[splitting_index:].values\n",
        "X_test = X_test.values"
      ],
      "metadata": {
        "id": "LPE-Saso90er"
      },
      "execution_count": 20,
      "outputs": []
    },
    {
      "cell_type": "markdown",
      "source": [
        "We will also carry along a copy of the full training set for use in training the final XGBoost model later on. This temp dataset will be preprocessed along with the others, but we will not remove any records from this temp record as we did with the training set above."
      ],
      "metadata": {
        "id": "fVkaBbx-Hl9n"
      }
    },
    {
      "cell_type": "code",
      "source": [
        "X_temp = X\n",
        "y_temp = y"
      ],
      "metadata": {
        "id": "8xZjkCCnOusa"
      },
      "execution_count": 21,
      "outputs": []
    },
    {
      "cell_type": "code",
      "source": [
        "# Standardization\n",
        "scaler = StandardScaler()\n",
        "X_train = scaler.fit_transform(X_train)\n",
        "X_val = scaler.transform(X_val)\n",
        "X_test = scaler.transform(X_test)\n",
        "X_temp = scaler.transform(X_temp)\n",
        "\n",
        "# Class imbalance check\n",
        "pd.value_counts(y_train)"
      ],
      "metadata": {
        "id": "pzFFC0Of_RTv",
        "colab": {
          "base_uri": "https://localhost:8080/"
        },
        "outputId": "2d428095-566c-46a8-c7c6-d79b35467c53"
      },
      "execution_count": 22,
      "outputs": [
        {
          "output_type": "execute_result",
          "data": {
            "text/plain": [
              "0    398840\n",
              "1     14538\n",
              "dtype: int64"
            ]
          },
          "metadata": {},
          "execution_count": 22
        }
      ]
    },
    {
      "cell_type": "markdown",
      "source": [
        "We can see from the output above that our dataset is very heavily imbalanced towards 'No_fraud', which means that any classifier we use to identify fraud will have a hard time not labeling each validation entry as 'No_fraud'. We will use Synthetic Minority Over-sampling Technique (SMOTE) to balance the class distribution between 'Fraud' and 'No_fraud' prior to training this model in hopes of aiding that model at detecting fraud, which is our ultimate goal."
      ],
      "metadata": {
        "id": "QB2A8hNwGTan"
      }
    },
    {
      "cell_type": "code",
      "source": [
        "# Applying SMOTE to deal with the class imbalance by oversampling\n",
        "smote = SMOTE()\n",
        "X_train, y_train = smote.fit_resample(X_train, y_train)\n",
        "X_temp, y_temp = smote.fit_resample(X_temp, y_temp)\n",
        "print(X_train.shape, y_train.shape)\n",
        "print(X_train.shape, y_train.shape)\n",
        "pd.value_counts(y_train)"
      ],
      "metadata": {
        "id": "I5jnlfsBAoHG",
        "colab": {
          "base_uri": "https://localhost:8080/"
        },
        "outputId": "77e30945-4e52-4cef-ecec-9902d2ae718d"
      },
      "execution_count": 23,
      "outputs": [
        {
          "output_type": "stream",
          "name": "stdout",
          "text": [
            "(797680, 290) (797680,)\n",
            "(797680, 290) (797680,)\n"
          ]
        },
        {
          "output_type": "execute_result",
          "data": {
            "text/plain": [
              "0    398840\n",
              "1    398840\n",
              "dtype: int64"
            ]
          },
          "metadata": {},
          "execution_count": 23
        }
      ]
    },
    {
      "cell_type": "code",
      "source": [
        "submission = pd.DataFrame({'TransactionID':test.TransactionID})"
      ],
      "metadata": {
        "id": "0D2lN3BCxwHE"
      },
      "execution_count": 24,
      "outputs": []
    },
    {
      "cell_type": "markdown",
      "source": [
        "At this point the notebook is using too much memory. These delete commands serve to clear the used memory in order to not cause stack overflow. In a future version, these delete commands will come when the dataset is no longer going to be used."
      ],
      "metadata": {
        "id": "Jz2yXxTQINuF"
      }
    },
    {
      "cell_type": "code",
      "source": [
        "del is_clean\n",
        "del is_encoded\n",
        "del numericals\n",
        "del categoricals\n",
        "del train\n",
        "del test"
      ],
      "metadata": {
        "id": "K2QNQInaQP2h"
      },
      "execution_count": 25,
      "outputs": []
    },
    {
      "cell_type": "markdown",
      "source": [
        "Below, we define functions to optimize the hyperparameters of an XGBoost model within a reasonable hyperparameter space. We use Bayesian search, we use 'recall' on the validation set as the value to maximize, and 5-fold cross-validation to find the optimal hyperparameters. Then, we will use these optimal values to train another XGBoost on the entire training dataset.  "
      ],
      "metadata": {
        "id": "WunKg5ACH-H1"
      }
    },
    {
      "cell_type": "code",
      "source": [
        "space = {\n",
        "    'max_depth': Integer(5, 9),\n",
        "    'learning_rate': Real(10**-5, 10**0, prior='log-uniform'),\n",
        "    'n_estimators': Integer(50, 200),\n",
        "    'min_child_weight': Integer(2, 100),\n",
        "    'gamma': Real(10**-5, 10**0, prior='log-uniform'),\n",
        "    'subsample': Real(10**-5, 10**0, prior='log-uniform'),\n",
        "    'reg_lambda': Real(10**-7, 10**-2, prior='log-uniform'),\n",
        "    'reg_alpha': Real(10**-7, 10**-2, prior='log-uniform')\n",
        "}\n",
        "\n",
        "# Define the XGBoost model and the search strategy, n_jobs sets number of threads used -1 is all\n",
        "xgb_model = xgb.XGBClassifier(objective = 'binary:logistic', tree_method = 'gpu_hist', scoring = 'recall')\n",
        "bayes_search = BayesSearchCV(xgb_model, search_spaces=space, n_iter=25, cv=5, random_state=42)\n",
        "\n",
        "# Fit the model and find the best hyperparameters\n",
        "bayes_search.fit(X_train, y_train)\n",
        "\n",
        "# Evaluate the model on the test set\n",
        "score = bayes_search.score(X_val, y_val)\n",
        "\n",
        "# Print the best hyperparameters and test accuracy\n",
        "print(\"Best hyperparameters: \", bayes_search.best_params_)\n",
        "print(\"Test accuracy: \", score)"
      ],
      "metadata": {
        "id": "h7k1LyhFe1D3",
        "colab": {
          "base_uri": "https://localhost:8080/"
        },
        "outputId": "a0c16efa-ce1e-4be3-f461-0cc0dfb4a6be"
      },
      "execution_count": 26,
      "outputs": [
        {
          "output_type": "stream",
          "name": "stdout",
          "text": [
            "Best hyperparameters:  OrderedDict([('gamma', 1.0), ('learning_rate', 1.0), ('max_depth', 5), ('min_child_weight', 37), ('n_estimators', 137), ('reg_alpha', 0.0005740245035946004), ('reg_lambda', 0.01), ('subsample', 0.0017042109417371252)])\n",
            "Test accuracy:  0.885240627222542\n"
          ]
        }
      ]
    },
    {
      "cell_type": "code",
      "source": [
        "# Train a new XGBoost model using the best hyperparameters on the training set\n",
        "best_params = bayes_search.best_params_\n",
        "model = xgb.XGBClassifier(objective = 'binary:logistic',\n",
        "                          tree_method = 'gpu_hist',\n",
        "                          scoring = 'recall',\n",
        "                          max_depth=best_params['max_depth'],\n",
        "                          learning_rate=best_params['learning_rate'],\n",
        "                          n_estimators=best_params['n_estimators'],\n",
        "                          subsample=best_params['subsample'],\n",
        "                          gamma=best_params['gamma'],\n",
        "                          min_child_weight=best_params['min_child_weight'],\n",
        "                          reg_alpha=best_params['reg_alpha'],\n",
        "                          reg_lambda=best_params['reg_lambda'])\n",
        "model.fit(X_temp, y_temp)"
      ],
      "metadata": {
        "id": "yQ8Ac6uKvItN",
        "colab": {
          "base_uri": "https://localhost:8080/"
        },
        "outputId": "0089ac58-8c2f-42d1-ad5f-5fa74d5b367b"
      },
      "execution_count": 27,
      "outputs": [
        {
          "output_type": "execute_result",
          "data": {
            "text/plain": [
              "XGBClassifier(gamma=1.0, learning_rate=1.0, max_depth=5, min_child_weight=37,\n",
              "              n_estimators=137, reg_alpha=0.0005740245035946004,\n",
              "              reg_lambda=0.01, scoring='recall',\n",
              "              subsample=0.0017042109417371252, tree_method='gpu_hist')"
            ]
          },
          "metadata": {},
          "execution_count": 27
        }
      ]
    },
    {
      "cell_type": "code",
      "source": [
        "# Predict the classes on the validation data\n",
        "y_pred = model.predict(X_val)\n",
        "\n",
        "# Convert the predicted classes from binary to integer (0 or 1)\n",
        "y_pred_int = npy.round(y_pred).astype(int)\n",
        "\n",
        "# Create a confusion matrix from the predicted and actual classes\n",
        "cm = confusion_matrix(y_val, y_pred_int)\n",
        "\n",
        "print(cm)"
      ],
      "metadata": {
        "colab": {
          "base_uri": "https://localhost:8080/"
        },
        "id": "m6iadqPJYqGP",
        "outputId": "667dc6df-2479-4a8e-cb28-88b7ade87500"
      },
      "execution_count": 28,
      "outputs": [
        {
          "output_type": "stream",
          "name": "stdout",
          "text": [
            "[[156972  14065]\n",
            " [  2976   3149]]\n"
          ]
        }
      ]
    },
    {
      "cell_type": "markdown",
      "source": [
        "Above, we take the optimal hyperparameters from our Bayesian search above and train another XGBoost model using the entire train dataset. With this model, we make predictions below for the test set and set up the dataframe 'submission' to be saved to .csv for testing on Kaggle.com."
      ],
      "metadata": {
        "id": "MAeUscZOE4np"
      }
    },
    {
      "cell_type": "code",
      "source": [
        "predictions = bayes_search.predict_proba(X_test)\n",
        "submission['isFraud'] = predictions[:, 1]"
      ],
      "metadata": {
        "id": "MEsF0aPnwxa9"
      },
      "execution_count": 29,
      "outputs": []
    },
    {
      "cell_type": "code",
      "source": [
        "submission.hist()"
      ],
      "metadata": {
        "id": "n-ncmsK-xfUr",
        "colab": {
          "base_uri": "https://localhost:8080/",
          "height": 346
        },
        "outputId": "156b34d8-1ded-4a86-ac88-26cbc560ebc1"
      },
      "execution_count": 30,
      "outputs": [
        {
          "output_type": "execute_result",
          "data": {
            "text/plain": [
              "array([[<matplotlib.axes._subplots.AxesSubplot object at 0x7fa1878cba60>,\n",
              "        <matplotlib.axes._subplots.AxesSubplot object at 0x7fa1878e0bb0>]],\n",
              "      dtype=object)"
            ]
          },
          "metadata": {},
          "execution_count": 30
        },
        {
          "output_type": "display_data",
          "data": {
            "text/plain": [
              "<Figure size 432x288 with 2 Axes>"
            ],
            "image/png": "[encoded data removed]"
          },
          "metadata": {
            "needs_background": "light"
          }
        }
      ]
    }
  ]
}